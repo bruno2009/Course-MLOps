{
 "cells": [
  {
   "cell_type": "markdown",
   "metadata": {},
   "source": [
    "#### ***We will understand the difference among these three techniques:***\n",
    "\n",
    "1. LabelEncoder and OneHotEncoder\n",
    "\n",
    "2. DictVectorizer\n",
    "\n",
    "3. Pandas get_dummies\n"
   ]
  },
  {
   "cell_type": "code",
   "execution_count": null,
   "metadata": {},
   "outputs": [],
   "source": [
    "import numpy as np\n",
    "import pandas as pd\n",
    "\n",
    "from sklearn.preprocessing import LabelEncoder, OneHotEncoder\n",
    "from sklearn.feature_extraction import DictVectorizer\n",
    "\n",
    "np.random.seed(123)\n"
   ]
  },
  {
   "cell_type": "code",
   "execution_count": 17,
   "metadata": {},
   "outputs": [
    {
     "name": "stdout",
     "output_type": "stream",
     "text": [
      "Random values 1:  [2 1 1 2 2 1 1 2 1 2 1 3 2 3 1 3 2 3 1 1]\n",
      "\n",
      "Random values 2:  [1 2 2 1 1 2 1 2 1 2 1 2 2 2 2 2 2 2 1 1]\n"
     ]
    }
   ],
   "source": [
    "np.random.seed(1)\n",
    "random_values1 = np.random.choice([1, 2, 3], size=20)\n",
    "\n",
    "np.random.seed(2)\n",
    "random_values2 = np.random.choice([1, 2], size=20)\n",
    "\n",
    "print('Random values 1: ', random_values1) \n",
    "print()\n",
    "print('Random values 2: ', random_values2) "
   ]
  },
  {
   "cell_type": "code",
   "execution_count": 21,
   "metadata": {},
   "outputs": [
    {
     "name": "stdout",
     "output_type": "stream",
     "text": [
      "    Var1  Var2\n",
      "0      2     1\n",
      "1      1     2\n",
      "2      1     2\n",
      "3      2     1\n",
      "4      2     1\n",
      "5      1     2\n",
      "6      1     1\n",
      "7      2     2\n",
      "8      1     1\n",
      "9      2     2\n",
      "10     1     1\n",
      "11     3     2\n",
      "12     2     2\n",
      "13     3     2\n",
      "14     1     2\n",
      "15     3     2\n",
      "16     2     2\n",
      "17     3     2\n",
      "18     1     1\n",
      "19     1     1\n"
     ]
    }
   ],
   "source": [
    "df = pd.DataFrame({'Var1': random_values1, 'Var2': random_values2})\n",
    "\n",
    "print(df)"
   ]
  },
  {
   "cell_type": "markdown",
   "metadata": {},
   "source": [
    "#### ***Instantiate LabelEncoder object***\n",
    "---"
   ]
  },
  {
   "cell_type": "code",
   "execution_count": 1,
   "metadata": {},
   "outputs": [
    {
     "ename": "NameError",
     "evalue": "name 'LabelEncoder' is not defined",
     "output_type": "error",
     "traceback": [
      "\u001b[0;31m---------------------------------------------------------------------------\u001b[0m",
      "\u001b[0;31mNameError\u001b[0m                                 Traceback (most recent call last)",
      "Cell \u001b[0;32mIn[1], line 1\u001b[0m\n\u001b[0;32m----> 1\u001b[0m categ_le \u001b[38;5;241m=\u001b[39m LabelEncoder()\n",
      "\u001b[0;31mNameError\u001b[0m: name 'LabelEncoder' is not defined"
     ]
    }
   ],
   "source": [
    "categ_le = LabelEncoder() "
   ]
  }
 ],
 "metadata": {
  "kernelspec": {
   "display_name": "base",
   "language": "python",
   "name": "python3"
  },
  "language_info": {
   "codemirror_mode": {
    "name": "ipython",
    "version": 3
   },
   "file_extension": ".py",
   "mimetype": "text/x-python",
   "name": "python",
   "nbconvert_exporter": "python",
   "pygments_lexer": "ipython3",
   "version": "3.12.2"
  }
 },
 "nbformat": 4,
 "nbformat_minor": 2
}
