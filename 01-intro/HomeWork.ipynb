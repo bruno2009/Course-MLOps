{
 "cells": [
  {
   "cell_type": "code",
   "execution_count": 3,
   "id": "e70fa197-ab90-4990-8971-c1c153cd5126",
   "metadata": {},
   "outputs": [],
   "source": [
    "# https://www.nyc.gov/site/tlc/about/tlc-trip-record-data.page\n",
    "# https://www.nyc.gov/assets/tlc/downloads/pdf/data_dictionary_trip_records_green.pdf"
   ]
  },
  {
   "cell_type": "code",
   "execution_count": 2,
   "id": "4f6f8e80-ddca-418a-a08d-edcd5c9bd10d",
   "metadata": {},
   "outputs": [
    {
     "data": {
      "text/plain": [
       "'/opt/conda/bin/python'"
      ]
     },
     "execution_count": 2,
     "metadata": {},
     "output_type": "execute_result"
    }
   ],
   "source": [
    "import sys\n",
    "sys.executable"
   ]
  },
  {
   "cell_type": "code",
   "execution_count": 107,
   "id": "570c617f-d9dc-45fd-9be5-14b53884f3ee",
   "metadata": {},
   "outputs": [],
   "source": [
    "import numpy as np\n",
    "import pandas as pd\n",
    "\n",
    "\n",
    "# graphics\n",
    "import seaborn as sns\n",
    "import matplotlib.pyplot as plt\n",
    "\n",
    "# feature and model\n",
    "import sklearn\n",
    "\n",
    "## Robust linear estimator fitting\n",
    "from sklearn.linear_model import (\n",
    "    HuberRegressor,\n",
    "    LinearRegression,\n",
    "    RANSACRegressor,\n",
    "    TheilSenRegressor,\n",
    ")\n",
    "\n",
    "from sklearn.preprocessing import OneHotEncoder\n",
    "\n",
    "from sklearn.pipeline import Pipeline\n",
    "from sklearn.compose import ColumnTransformer\n",
    "from sklearn.preprocessing import StandardScaler\n",
    "\n",
    "from sklearn.metrics import root_mean_squared_error"
   ]
  },
  {
   "cell_type": "code",
   "execution_count": 5,
   "id": "46910de5-b73d-4d75-97ce-f0d69c820dde",
   "metadata": {},
   "outputs": [
    {
     "data": {
      "text/html": [
       "<div>\n",
       "<style scoped>\n",
       "    .dataframe tbody tr th:only-of-type {\n",
       "        vertical-align: middle;\n",
       "    }\n",
       "\n",
       "    .dataframe tbody tr th {\n",
       "        vertical-align: top;\n",
       "    }\n",
       "\n",
       "    .dataframe thead th {\n",
       "        text-align: right;\n",
       "    }\n",
       "</style>\n",
       "<table border=\"1\" class=\"dataframe\">\n",
       "  <thead>\n",
       "    <tr style=\"text-align: right;\">\n",
       "      <th></th>\n",
       "      <th>VendorID</th>\n",
       "      <th>lpep_pickup_datetime</th>\n",
       "      <th>lpep_dropoff_datetime</th>\n",
       "      <th>store_and_fwd_flag</th>\n",
       "      <th>RatecodeID</th>\n",
       "      <th>PULocationID</th>\n",
       "      <th>DOLocationID</th>\n",
       "      <th>passenger_count</th>\n",
       "      <th>trip_distance</th>\n",
       "      <th>fare_amount</th>\n",
       "      <th>extra</th>\n",
       "      <th>mta_tax</th>\n",
       "      <th>tip_amount</th>\n",
       "      <th>tolls_amount</th>\n",
       "      <th>ehail_fee</th>\n",
       "      <th>improvement_surcharge</th>\n",
       "      <th>total_amount</th>\n",
       "      <th>payment_type</th>\n",
       "      <th>trip_type</th>\n",
       "      <th>congestion_surcharge</th>\n",
       "    </tr>\n",
       "  </thead>\n",
       "  <tbody>\n",
       "    <tr>\n",
       "      <th>0</th>\n",
       "      <td>2</td>\n",
       "      <td>2024-04-01 00:18:50</td>\n",
       "      <td>2024-04-01 00:19:48</td>\n",
       "      <td>N</td>\n",
       "      <td>1.0</td>\n",
       "      <td>146</td>\n",
       "      <td>146</td>\n",
       "      <td>1.0</td>\n",
       "      <td>0.15</td>\n",
       "      <td>3.7</td>\n",
       "      <td>1.0</td>\n",
       "      <td>0.5</td>\n",
       "      <td>0.00</td>\n",
       "      <td>0.0</td>\n",
       "      <td>NaN</td>\n",
       "      <td>1.0</td>\n",
       "      <td>6.20</td>\n",
       "      <td>2.0</td>\n",
       "      <td>1.0</td>\n",
       "      <td>0.00</td>\n",
       "    </tr>\n",
       "    <tr>\n",
       "      <th>1</th>\n",
       "      <td>2</td>\n",
       "      <td>2024-04-01 00:56:16</td>\n",
       "      <td>2024-04-01 01:12:56</td>\n",
       "      <td>N</td>\n",
       "      <td>1.0</td>\n",
       "      <td>65</td>\n",
       "      <td>225</td>\n",
       "      <td>1.0</td>\n",
       "      <td>3.06</td>\n",
       "      <td>17.7</td>\n",
       "      <td>1.0</td>\n",
       "      <td>0.5</td>\n",
       "      <td>4.04</td>\n",
       "      <td>0.0</td>\n",
       "      <td>NaN</td>\n",
       "      <td>1.0</td>\n",
       "      <td>24.24</td>\n",
       "      <td>1.0</td>\n",
       "      <td>1.0</td>\n",
       "      <td>0.00</td>\n",
       "    </tr>\n",
       "    <tr>\n",
       "      <th>2</th>\n",
       "      <td>2</td>\n",
       "      <td>2024-04-01 00:23:09</td>\n",
       "      <td>2024-04-01 00:33:03</td>\n",
       "      <td>N</td>\n",
       "      <td>1.0</td>\n",
       "      <td>226</td>\n",
       "      <td>146</td>\n",
       "      <td>1.0</td>\n",
       "      <td>1.95</td>\n",
       "      <td>11.4</td>\n",
       "      <td>1.0</td>\n",
       "      <td>0.5</td>\n",
       "      <td>3.48</td>\n",
       "      <td>0.0</td>\n",
       "      <td>NaN</td>\n",
       "      <td>1.0</td>\n",
       "      <td>17.38</td>\n",
       "      <td>1.0</td>\n",
       "      <td>1.0</td>\n",
       "      <td>0.00</td>\n",
       "    </tr>\n",
       "    <tr>\n",
       "      <th>3</th>\n",
       "      <td>2</td>\n",
       "      <td>2024-03-31 22:34:23</td>\n",
       "      <td>2024-03-31 22:45:33</td>\n",
       "      <td>N</td>\n",
       "      <td>1.0</td>\n",
       "      <td>74</td>\n",
       "      <td>116</td>\n",
       "      <td>1.0</td>\n",
       "      <td>1.93</td>\n",
       "      <td>12.8</td>\n",
       "      <td>1.0</td>\n",
       "      <td>0.5</td>\n",
       "      <td>3.06</td>\n",
       "      <td>0.0</td>\n",
       "      <td>NaN</td>\n",
       "      <td>1.0</td>\n",
       "      <td>18.36</td>\n",
       "      <td>1.0</td>\n",
       "      <td>1.0</td>\n",
       "      <td>0.00</td>\n",
       "    </tr>\n",
       "    <tr>\n",
       "      <th>4</th>\n",
       "      <td>2</td>\n",
       "      <td>2024-03-31 23:21:41</td>\n",
       "      <td>2024-03-31 23:29:40</td>\n",
       "      <td>N</td>\n",
       "      <td>1.0</td>\n",
       "      <td>236</td>\n",
       "      <td>238</td>\n",
       "      <td>1.0</td>\n",
       "      <td>1.50</td>\n",
       "      <td>10.7</td>\n",
       "      <td>1.0</td>\n",
       "      <td>0.5</td>\n",
       "      <td>0.80</td>\n",
       "      <td>0.0</td>\n",
       "      <td>NaN</td>\n",
       "      <td>1.0</td>\n",
       "      <td>16.75</td>\n",
       "      <td>1.0</td>\n",
       "      <td>1.0</td>\n",
       "      <td>2.75</td>\n",
       "    </tr>\n",
       "  </tbody>\n",
       "</table>\n",
       "</div>"
      ],
      "text/plain": [
       "   VendorID lpep_pickup_datetime lpep_dropoff_datetime store_and_fwd_flag  \\\n",
       "0         2  2024-04-01 00:18:50   2024-04-01 00:19:48                  N   \n",
       "1         2  2024-04-01 00:56:16   2024-04-01 01:12:56                  N   \n",
       "2         2  2024-04-01 00:23:09   2024-04-01 00:33:03                  N   \n",
       "3         2  2024-03-31 22:34:23   2024-03-31 22:45:33                  N   \n",
       "4         2  2024-03-31 23:21:41   2024-03-31 23:29:40                  N   \n",
       "\n",
       "   RatecodeID  PULocationID  DOLocationID  passenger_count  trip_distance  \\\n",
       "0         1.0           146           146              1.0           0.15   \n",
       "1         1.0            65           225              1.0           3.06   \n",
       "2         1.0           226           146              1.0           1.95   \n",
       "3         1.0            74           116              1.0           1.93   \n",
       "4         1.0           236           238              1.0           1.50   \n",
       "\n",
       "   fare_amount  extra  mta_tax  tip_amount  tolls_amount  ehail_fee  \\\n",
       "0          3.7    1.0      0.5        0.00           0.0        NaN   \n",
       "1         17.7    1.0      0.5        4.04           0.0        NaN   \n",
       "2         11.4    1.0      0.5        3.48           0.0        NaN   \n",
       "3         12.8    1.0      0.5        3.06           0.0        NaN   \n",
       "4         10.7    1.0      0.5        0.80           0.0        NaN   \n",
       "\n",
       "   improvement_surcharge  total_amount  payment_type  trip_type  \\\n",
       "0                    1.0          6.20           2.0        1.0   \n",
       "1                    1.0         24.24           1.0        1.0   \n",
       "2                    1.0         17.38           1.0        1.0   \n",
       "3                    1.0         18.36           1.0        1.0   \n",
       "4                    1.0         16.75           1.0        1.0   \n",
       "\n",
       "   congestion_surcharge  \n",
       "0                  0.00  \n",
       "1                  0.00  \n",
       "2                  0.00  \n",
       "3                  0.00  \n",
       "4                  2.75  "
      ]
     },
     "execution_count": 5,
     "metadata": {},
     "output_type": "execute_result"
    }
   ],
   "source": [
    "df = pd.read_parquet('https://d37ci6vzurychx.cloudfront.net/trip-data/green_tripdata_2024-04.parquet')\n",
    "# df = df[df.trip_type == 2]\n",
    "df.head()"
   ]
  },
  {
   "cell_type": "code",
   "execution_count": 6,
   "id": "8480fab9-632b-4af7-893a-31a3aeb79778",
   "metadata": {},
   "outputs": [],
   "source": [
    "df.lpep_pickup_datetime = pd.to_datetime(df.lpep_pickup_datetime)\n",
    "df.lpep_dropoff_datetime = pd.to_datetime(df.lpep_dropoff_datetime)"
   ]
  },
  {
   "cell_type": "code",
   "execution_count": 7,
   "id": "3ab39702-1452-4bca-a9f2-73920c71e623",
   "metadata": {},
   "outputs": [],
   "source": [
    "df['duration'] = df.lpep_dropoff_datetime - df.lpep_pickup_datetime"
   ]
  },
  {
   "cell_type": "code",
   "execution_count": 8,
   "id": "5e483618-8e58-4fab-932f-2fb428a9c15f",
   "metadata": {},
   "outputs": [
    {
     "data": {
      "text/html": [
       "<div>\n",
       "<style scoped>\n",
       "    .dataframe tbody tr th:only-of-type {\n",
       "        vertical-align: middle;\n",
       "    }\n",
       "\n",
       "    .dataframe tbody tr th {\n",
       "        vertical-align: top;\n",
       "    }\n",
       "\n",
       "    .dataframe thead th {\n",
       "        text-align: right;\n",
       "    }\n",
       "</style>\n",
       "<table border=\"1\" class=\"dataframe\">\n",
       "  <thead>\n",
       "    <tr style=\"text-align: right;\">\n",
       "      <th></th>\n",
       "      <th>VendorID</th>\n",
       "      <th>lpep_pickup_datetime</th>\n",
       "      <th>lpep_dropoff_datetime</th>\n",
       "      <th>store_and_fwd_flag</th>\n",
       "      <th>RatecodeID</th>\n",
       "      <th>PULocationID</th>\n",
       "      <th>DOLocationID</th>\n",
       "      <th>passenger_count</th>\n",
       "      <th>trip_distance</th>\n",
       "      <th>fare_amount</th>\n",
       "      <th>...</th>\n",
       "      <th>mta_tax</th>\n",
       "      <th>tip_amount</th>\n",
       "      <th>tolls_amount</th>\n",
       "      <th>ehail_fee</th>\n",
       "      <th>improvement_surcharge</th>\n",
       "      <th>total_amount</th>\n",
       "      <th>payment_type</th>\n",
       "      <th>trip_type</th>\n",
       "      <th>congestion_surcharge</th>\n",
       "      <th>duration</th>\n",
       "    </tr>\n",
       "  </thead>\n",
       "  <tbody>\n",
       "    <tr>\n",
       "      <th>0</th>\n",
       "      <td>2</td>\n",
       "      <td>2024-04-01 00:18:50</td>\n",
       "      <td>2024-04-01 00:19:48</td>\n",
       "      <td>N</td>\n",
       "      <td>1.0</td>\n",
       "      <td>146</td>\n",
       "      <td>146</td>\n",
       "      <td>1.0</td>\n",
       "      <td>0.15</td>\n",
       "      <td>3.7</td>\n",
       "      <td>...</td>\n",
       "      <td>0.5</td>\n",
       "      <td>0.00</td>\n",
       "      <td>0.0</td>\n",
       "      <td>NaN</td>\n",
       "      <td>1.0</td>\n",
       "      <td>6.20</td>\n",
       "      <td>2.0</td>\n",
       "      <td>1.0</td>\n",
       "      <td>0.00</td>\n",
       "      <td>0.966667</td>\n",
       "    </tr>\n",
       "    <tr>\n",
       "      <th>1</th>\n",
       "      <td>2</td>\n",
       "      <td>2024-04-01 00:56:16</td>\n",
       "      <td>2024-04-01 01:12:56</td>\n",
       "      <td>N</td>\n",
       "      <td>1.0</td>\n",
       "      <td>65</td>\n",
       "      <td>225</td>\n",
       "      <td>1.0</td>\n",
       "      <td>3.06</td>\n",
       "      <td>17.7</td>\n",
       "      <td>...</td>\n",
       "      <td>0.5</td>\n",
       "      <td>4.04</td>\n",
       "      <td>0.0</td>\n",
       "      <td>NaN</td>\n",
       "      <td>1.0</td>\n",
       "      <td>24.24</td>\n",
       "      <td>1.0</td>\n",
       "      <td>1.0</td>\n",
       "      <td>0.00</td>\n",
       "      <td>16.666667</td>\n",
       "    </tr>\n",
       "    <tr>\n",
       "      <th>2</th>\n",
       "      <td>2</td>\n",
       "      <td>2024-04-01 00:23:09</td>\n",
       "      <td>2024-04-01 00:33:03</td>\n",
       "      <td>N</td>\n",
       "      <td>1.0</td>\n",
       "      <td>226</td>\n",
       "      <td>146</td>\n",
       "      <td>1.0</td>\n",
       "      <td>1.95</td>\n",
       "      <td>11.4</td>\n",
       "      <td>...</td>\n",
       "      <td>0.5</td>\n",
       "      <td>3.48</td>\n",
       "      <td>0.0</td>\n",
       "      <td>NaN</td>\n",
       "      <td>1.0</td>\n",
       "      <td>17.38</td>\n",
       "      <td>1.0</td>\n",
       "      <td>1.0</td>\n",
       "      <td>0.00</td>\n",
       "      <td>9.900000</td>\n",
       "    </tr>\n",
       "    <tr>\n",
       "      <th>3</th>\n",
       "      <td>2</td>\n",
       "      <td>2024-03-31 22:34:23</td>\n",
       "      <td>2024-03-31 22:45:33</td>\n",
       "      <td>N</td>\n",
       "      <td>1.0</td>\n",
       "      <td>74</td>\n",
       "      <td>116</td>\n",
       "      <td>1.0</td>\n",
       "      <td>1.93</td>\n",
       "      <td>12.8</td>\n",
       "      <td>...</td>\n",
       "      <td>0.5</td>\n",
       "      <td>3.06</td>\n",
       "      <td>0.0</td>\n",
       "      <td>NaN</td>\n",
       "      <td>1.0</td>\n",
       "      <td>18.36</td>\n",
       "      <td>1.0</td>\n",
       "      <td>1.0</td>\n",
       "      <td>0.00</td>\n",
       "      <td>11.166667</td>\n",
       "    </tr>\n",
       "    <tr>\n",
       "      <th>4</th>\n",
       "      <td>2</td>\n",
       "      <td>2024-03-31 23:21:41</td>\n",
       "      <td>2024-03-31 23:29:40</td>\n",
       "      <td>N</td>\n",
       "      <td>1.0</td>\n",
       "      <td>236</td>\n",
       "      <td>238</td>\n",
       "      <td>1.0</td>\n",
       "      <td>1.50</td>\n",
       "      <td>10.7</td>\n",
       "      <td>...</td>\n",
       "      <td>0.5</td>\n",
       "      <td>0.80</td>\n",
       "      <td>0.0</td>\n",
       "      <td>NaN</td>\n",
       "      <td>1.0</td>\n",
       "      <td>16.75</td>\n",
       "      <td>1.0</td>\n",
       "      <td>1.0</td>\n",
       "      <td>2.75</td>\n",
       "      <td>7.983333</td>\n",
       "    </tr>\n",
       "  </tbody>\n",
       "</table>\n",
       "<p>5 rows × 21 columns</p>\n",
       "</div>"
      ],
      "text/plain": [
       "   VendorID lpep_pickup_datetime lpep_dropoff_datetime store_and_fwd_flag  \\\n",
       "0         2  2024-04-01 00:18:50   2024-04-01 00:19:48                  N   \n",
       "1         2  2024-04-01 00:56:16   2024-04-01 01:12:56                  N   \n",
       "2         2  2024-04-01 00:23:09   2024-04-01 00:33:03                  N   \n",
       "3         2  2024-03-31 22:34:23   2024-03-31 22:45:33                  N   \n",
       "4         2  2024-03-31 23:21:41   2024-03-31 23:29:40                  N   \n",
       "\n",
       "   RatecodeID  PULocationID  DOLocationID  passenger_count  trip_distance  \\\n",
       "0         1.0           146           146              1.0           0.15   \n",
       "1         1.0            65           225              1.0           3.06   \n",
       "2         1.0           226           146              1.0           1.95   \n",
       "3         1.0            74           116              1.0           1.93   \n",
       "4         1.0           236           238              1.0           1.50   \n",
       "\n",
       "   fare_amount  ...  mta_tax  tip_amount  tolls_amount  ehail_fee  \\\n",
       "0          3.7  ...      0.5        0.00           0.0        NaN   \n",
       "1         17.7  ...      0.5        4.04           0.0        NaN   \n",
       "2         11.4  ...      0.5        3.48           0.0        NaN   \n",
       "3         12.8  ...      0.5        3.06           0.0        NaN   \n",
       "4         10.7  ...      0.5        0.80           0.0        NaN   \n",
       "\n",
       "   improvement_surcharge  total_amount  payment_type  trip_type  \\\n",
       "0                    1.0          6.20           2.0        1.0   \n",
       "1                    1.0         24.24           1.0        1.0   \n",
       "2                    1.0         17.38           1.0        1.0   \n",
       "3                    1.0         18.36           1.0        1.0   \n",
       "4                    1.0         16.75           1.0        1.0   \n",
       "\n",
       "   congestion_surcharge   duration  \n",
       "0                  0.00   0.966667  \n",
       "1                  0.00  16.666667  \n",
       "2                  0.00   9.900000  \n",
       "3                  0.00  11.166667  \n",
       "4                  2.75   7.983333  \n",
       "\n",
       "[5 rows x 21 columns]"
      ]
     },
     "execution_count": 8,
     "metadata": {},
     "output_type": "execute_result"
    }
   ],
   "source": [
    "df.duration = df.duration.apply(lambda x: x.total_seconds() / 60) # time in minutes\n",
    "df.head()"
   ]
  },
  {
   "cell_type": "code",
   "execution_count": 9,
   "id": "cbcc8daf-59db-4f8d-8458-02d9acdd4994",
   "metadata": {},
   "outputs": [
    {
     "data": {
      "image/png": "[encoded data removed]",
      "text/plain": [
       "<Figure size 600x400 with 1 Axes>"
      ]
     },
     "metadata": {},
     "output_type": "display_data"
    }
   ],
   "source": [
    "plt.figure(figsize=(6, 4))\n",
    "\n",
    "sns.histplot(df.duration, kde=True)\n",
    "\n",
    "plt.show()"
   ]
  },
  {
   "cell_type": "code",
   "execution_count": 10,
   "id": "5d79dce3-3287-4915-802f-dd2ea1e107ec",
   "metadata": {},
   "outputs": [
    {
     "data": {
      "text/plain": [
       "count    56471.000000\n",
       "mean        18.408817\n",
       "std         74.060173\n",
       "min          0.000000\n",
       "50%         11.650000\n",
       "95%         35.000000\n",
       "98%         48.136667\n",
       "99%         64.633333\n",
       "max       1439.866667\n",
       "Name: duration, dtype: float64"
      ]
     },
     "execution_count": 10,
     "metadata": {},
     "output_type": "execute_result"
    }
   ],
   "source": [
    "df.duration.describe(percentiles=[0.95, 0.98, 0.99])"
   ]
  },
  {
   "cell_type": "code",
   "execution_count": 11,
   "id": "6c607671-6551-4819-b578-88ff2cbb9916",
   "metadata": {},
   "outputs": [
    {
     "data": {
      "image/png": "[encoded data removed]",
      "text/plain": [
       "<Figure size 600x400 with 1 Axes>"
      ]
     },
     "metadata": {},
     "output_type": "display_data"
    }
   ],
   "source": [
    "plt.figure(figsize=(6, 4))\n",
    "\n",
    "# Create the violin plot\n",
    "sns.violinplot(y='duration', data=df, inner=None, color=\".8\")\n",
    "sns.stripplot(y='duration', data=df, jitter=True, color='k', alpha=0.5)\n",
    "\n",
    "# Show the plot\n",
    "plt.show()"
   ]
  },
  {
   "cell_type": "code",
   "execution_count": 12,
   "id": "55e7eb0d-c9f7-47c5-a7ee-c38c06f19c7b",
   "metadata": {},
   "outputs": [
    {
     "data": {
      "text/plain": [
       "np.float64(0.9946875387366967)"
      ]
     },
     "execution_count": 12,
     "metadata": {},
     "output_type": "execute_result"
    }
   ],
   "source": [
    "((df.duration >= 0) & (df.duration <= 100)).mean()"
   ]
  },
  {
   "cell_type": "code",
   "execution_count": 13,
   "id": "26feffc1",
   "metadata": {},
   "outputs": [
    {
     "data": {
      "text/plain": [
       "Index(['VendorID', 'lpep_pickup_datetime', 'lpep_dropoff_datetime',\n",
       "       'store_and_fwd_flag', 'RatecodeID', 'PULocationID', 'DOLocationID',\n",
       "       'passenger_count', 'trip_distance', 'fare_amount', 'extra', 'mta_tax',\n",
       "       'tip_amount', 'tolls_amount', 'ehail_fee', 'improvement_surcharge',\n",
       "       'total_amount', 'payment_type', 'trip_type', 'congestion_surcharge',\n",
       "       'duration'],\n",
       "      dtype='object')"
      ]
     },
     "execution_count": 13,
     "metadata": {},
     "output_type": "execute_result"
    }
   ],
   "source": [
    "df.columns"
   ]
  },
  {
   "cell_type": "code",
   "execution_count": 24,
   "id": "053fa0ca-059a-4c39-b924-cff3f5256849",
   "metadata": {},
   "outputs": [],
   "source": [
    "# categorical = ['PULocationID', 'DOLocationID']\n",
    "categorical = ['VendorID', 'trip_type']\n",
    "numerical = ['trip_distance']\n",
    "label = ['duration']"
   ]
  },
  {
   "cell_type": "markdown",
   "id": "ed4a56a8",
   "metadata": {},
   "source": [
    "### ***Prepare data for modeling***\n",
    "---"
   ]
  },
  {
   "cell_type": "code",
   "execution_count": 75,
   "id": "300ae719",
   "metadata": {},
   "outputs": [
    {
     "data": {
      "text/plain": [
       "VendorID          object\n",
       "trip_type         object\n",
       "trip_distance    float64\n",
       "dtype: object"
      ]
     },
     "execution_count": 75,
     "metadata": {},
     "output_type": "execute_result"
    }
   ],
   "source": [
    "dataset = df[categorical + numerical + label].dropna()\n",
    "\n",
    "X = dataset[categorical + numerical].copy()\n",
    "\n",
    "X[categorical] = X[categorical].astype(np.int64)\n",
    "X[categorical] = X[categorical].astype(str)\n",
    "X.dtypes "
   ]
  },
  {
   "cell_type": "code",
   "execution_count": 76,
   "id": "e0780172",
   "metadata": {},
   "outputs": [
    {
     "data": {
      "text/html": [
       "<div>\n",
       "<style scoped>\n",
       "    .dataframe tbody tr th:only-of-type {\n",
       "        vertical-align: middle;\n",
       "    }\n",
       "\n",
       "    .dataframe tbody tr th {\n",
       "        vertical-align: top;\n",
       "    }\n",
       "\n",
       "    .dataframe thead th {\n",
       "        text-align: right;\n",
       "    }\n",
       "</style>\n",
       "<table border=\"1\" class=\"dataframe\">\n",
       "  <thead>\n",
       "    <tr style=\"text-align: right;\">\n",
       "      <th></th>\n",
       "      <th>VendorID</th>\n",
       "      <th>trip_type</th>\n",
       "    </tr>\n",
       "  </thead>\n",
       "  <tbody>\n",
       "    <tr>\n",
       "      <th>0</th>\n",
       "      <td>2</td>\n",
       "      <td>1</td>\n",
       "    </tr>\n",
       "    <tr>\n",
       "      <th>1</th>\n",
       "      <td>1</td>\n",
       "      <td>2</td>\n",
       "    </tr>\n",
       "  </tbody>\n",
       "</table>\n",
       "</div>"
      ],
      "text/plain": [
       "  VendorID trip_type\n",
       "0        2         1\n",
       "1        1         2"
      ]
     },
     "execution_count": 76,
     "metadata": {},
     "output_type": "execute_result"
    }
   ],
   "source": [
    "X[categorical].apply(lambda x: x.unique())"
   ]
  },
  {
   "cell_type": "code",
   "execution_count": 77,
   "id": "3b708868",
   "metadata": {},
   "outputs": [],
   "source": [
    "# transform numeric features\n",
    "numeric_transformer = Pipeline(\n",
    "    steps=[\n",
    "        # (\"imputer\", SimpleImputer(strategy=\"median\")), \n",
    "           (\"scaler\", StandardScaler())\n",
    "           ]\n",
    ")\n",
    "\n",
    "# transform categorical features\n",
    "categorical_transformer = Pipeline(\n",
    "    steps=[\n",
    "        # (\"imputer\", SimpleImputer(strategy=\"constant\", fill_value=\"missing\")),\n",
    "           (\"onehot\", OneHotEncoder(sparse_output=False, drop= 'first', dtype = np.int64))\n",
    "           ]\n",
    ")\n",
    "\n",
    "# combine both transformations\n",
    "col_transformer = ColumnTransformer(\n",
    "    transformers=[\n",
    "        (\"numeric\", numeric_transformer, numerical),\n",
    "        (\"categorical\", categorical_transformer, categorical)\n",
    "    ], \n",
    "    remainder='passthrough'    \n",
    ").set_output(transform='pandas')"
   ]
  },
  {
   "cell_type": "code",
   "execution_count": 78,
   "id": "6ec66e62",
   "metadata": {},
   "outputs": [],
   "source": [
    "X_train = col_transformer.fit_transform(X)\n",
    "y_train = dataset.duration"
   ]
  },
  {
   "cell_type": "markdown",
   "id": "7a4bbbb0",
   "metadata": {},
   "source": [
    "### ***Linear Regression***"
   ]
  },
  {
   "cell_type": "code",
   "execution_count": 104,
   "id": "e2070afc",
   "metadata": {},
   "outputs": [
    {
     "name": "stdout",
     "output_type": "stream",
     "text": [
      "Estimated coefficients Linear:\n",
      "18.660377045650588 [10.12418624 -0.13731233 -3.78078082]\n"
     ]
    }
   ],
   "source": [
    "model = LinearRegression(fit_intercept=True).fit(X_train, y_train)\n",
    "\n",
    "print(\"Estimated coefficients Linear:\")\n",
    "print(model.intercept_, model.coef_)\n",
    "\n",
    "y_pred = model.predict(X_train)"
   ]
  },
  {
   "cell_type": "code",
   "execution_count": 105,
   "id": "3c7ada01-64f2-4c90-8349-d33fe1b64d6f",
   "metadata": {},
   "outputs": [
    {
     "data": {
      "image/png": "[encoded data removed]",
      "text/plain": [
       "<Figure size 640x480 with 1 Axes>"
      ]
     },
     "metadata": {},
     "output_type": "display_data"
    },
    {
     "data": {
      "text/plain": [
       "np.float64(74.67999899566739)"
      ]
     },
     "execution_count": 105,
     "metadata": {},
     "output_type": "execute_result"
    }
   ],
   "source": [
    "data_hist = pd.DataFrame({\n",
    "    'predict': y_pred,\n",
    "    'label': y_train\n",
    "}).melt(id_vars=None, value_vars=['predict', 'label'], var_name='Name', value_name='Var')\n",
    "\n",
    "sns.histplot(data=data_hist, x='Var', hue='Name', element='step', stat='density', common_norm=False)\n",
    "\n",
    "plt.show()\n",
    "\n",
    "root_mean_squared_error(y_pred, y_train)"
   ]
  },
  {
   "cell_type": "markdown",
   "id": "ef9c8357",
   "metadata": {},
   "source": [
    "### ***RANSACRegressor***"
   ]
  },
  {
   "cell_type": "code",
   "execution_count": 100,
   "id": "22fecb52-21eb-4ff9-8ade-28873b567e14",
   "metadata": {},
   "outputs": [
    {
     "name": "stdout",
     "output_type": "stream",
     "text": [
      "Estimated coefficients RANSAC:\n",
      "13.504583797011984 [11.52747608 -0.16821729 -2.01848329]\n"
     ]
    }
   ],
   "source": [
    "ransac = RANSACRegressor(random_state = 123).fit(X_train, y_train)\n",
    "\n",
    "print(\"Estimated coefficients RANSAC:\")\n",
    "print(ransac.estimator_.intercept_, ransac.estimator_.coef_)\n",
    "\n",
    "y_pred_r = ransac.predict(X_train)\n"
   ]
  },
  {
   "cell_type": "code",
   "execution_count": 106,
   "id": "7dba584c",
   "metadata": {},
   "outputs": [
    {
     "data": {
      "image/png": "[encoded data removed]",
      "text/plain": [
       "<Figure size 640x480 with 1 Axes>"
      ]
     },
     "metadata": {},
     "output_type": "display_data"
    },
    {
     "data": {
      "text/plain": [
       "np.float64(74.86901615917074)"
      ]
     },
     "execution_count": 106,
     "metadata": {},
     "output_type": "execute_result"
    }
   ],
   "source": [
    "data_hist_r = pd.DataFrame({\n",
    "    'predict': y_pred_r,\n",
    "    'label': y_train\n",
    "}).melt(id_vars=None, value_vars=['predict', 'label'], var_name='Name', value_name='Var')\n",
    "\n",
    "sns.histplot(data=data_hist_r, x='Var', hue='Name', element='step', stat='density', common_norm=False)\n",
    "\n",
    "plt.show()\n",
    "\n",
    "root_mean_squared_error(y_pred_r, y_train)"
   ]
  },
  {
   "cell_type": "code",
   "execution_count": null,
   "id": "61ee45f0-49a3-4435-8237-148a7db8a31c",
   "metadata": {},
   "outputs": [],
   "source": []
  }
 ],
 "metadata": {
  "kernelspec": {
   "display_name": "Python 3 (ipykernel)",
   "language": "python",
   "name": "python3"
  },
  "language_info": {
   "codemirror_mode": {
    "name": "ipython",
    "version": 3
   },
   "file_extension": ".py",
   "mimetype": "text/x-python",
   "name": "python",
   "nbconvert_exporter": "python",
   "pygments_lexer": "ipython3",
   "version": "3.12.3"
  }
 },
 "nbformat": 4,
 "nbformat_minor": 5
}
