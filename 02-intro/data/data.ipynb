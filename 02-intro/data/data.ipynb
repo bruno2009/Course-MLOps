{
 "cells": [
  {
   "cell_type": "code",
   "execution_count": 1,
   "metadata": {},
   "outputs": [],
   "source": [
    "import pandas as pd\n",
    "import pyarrow as pa\n",
    "import pyarrow.parquet as pq"
   ]
  },
  {
   "cell_type": "code",
   "execution_count": 2,
   "metadata": {},
   "outputs": [],
   "source": [
    "df_01 = pd.read_parquet('https://d37ci6vzurychx.cloudfront.net/trip-data/green_tripdata_2024-01.parquet')\n",
    "df_02 = pd.read_parquet('https://d37ci6vzurychx.cloudfront.net/trip-data/green_tripdata_2024-02.parquet')"
   ]
  },
  {
   "cell_type": "code",
   "execution_count": 3,
   "metadata": {},
   "outputs": [],
   "source": [
    "df_01.lpep_pickup_datetime = pd.to_datetime(df_01.lpep_pickup_datetime)\n",
    "df_01.lpep_dropoff_datetime = pd.to_datetime(df_01.lpep_dropoff_datetime)\n",
    "df_01['duration'] = df_01.lpep_dropoff_datetime - df_01.lpep_pickup_datetime\n",
    "df_01.duration = df_01.duration.apply(lambda x: x.total_seconds() / 60) # time in minutes"
   ]
  },
  {
   "cell_type": "code",
   "execution_count": 4,
   "metadata": {},
   "outputs": [],
   "source": [
    "df_02.lpep_pickup_datetime = pd.to_datetime(df_02.lpep_pickup_datetime)\n",
    "df_02.lpep_dropoff_datetime = pd.to_datetime(df_02.lpep_dropoff_datetime)\n",
    "df_02['duration'] = df_02.lpep_dropoff_datetime - df_02.lpep_pickup_datetime\n",
    "df_02.duration = df_02.duration.apply(lambda x: x.total_seconds() / 60) # time in minutes"
   ]
  },
  {
   "cell_type": "code",
   "execution_count": 5,
   "metadata": {},
   "outputs": [],
   "source": [
    "table_01 = pa.Table.from_pandas(df_01)\n",
    "table_02 = pa.Table.from_pandas(df_02)"
   ]
  },
  {
   "cell_type": "code",
   "execution_count": 6,
   "metadata": {},
   "outputs": [],
   "source": [
    "pq.write_table(table_01, 'green_tripdata_2024-01.parquet')\n",
    "pq.write_table(table_02, 'green_tripdata_2024-02.parquet')"
   ]
  }
 ],
 "metadata": {
  "kernelspec": {
   "display_name": "base",
   "language": "python",
   "name": "python3"
  },
  "language_info": {
   "codemirror_mode": {
    "name": "ipython",
    "version": 3
   },
   "file_extension": ".py",
   "mimetype": "text/x-python",
   "name": "python",
   "nbconvert_exporter": "python",
   "pygments_lexer": "ipython3",
   "version": "3.12.3"
  }
 },
 "nbformat": 4,
 "nbformat_minor": 2
}
